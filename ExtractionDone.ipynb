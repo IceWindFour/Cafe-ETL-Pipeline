{
 "cells": [
  {
   "cell_type": "code",
   "execution_count": 2,
   "id": "36830719",
   "metadata": {},
   "outputs": [],
   "source": [
    "import pandas as pd\n",
    "import os\n",
    "from pathlib import Path\n",
    "import numpy as np"
   ]
  },
  {
   "cell_type": "code",
   "execution_count": 3,
   "id": "33545016",
   "metadata": {},
   "outputs": [
    {
     "name": "stdout",
     "output_type": "stream",
     "text": [
      " Volume in drive C is Windows-SSD\n",
      " Volume Serial Number is 5EAC-9465\n",
      "\n",
      " Directory of c:\\Users\\Asif Shajahan\\Desktop\\extractionphase\n",
      "\n",
      "09/12/2022  14:10    <DIR>          .\n",
      "09/12/2022  14:39    <DIR>          ..\n",
      "09/12/2022  11:51    <DIR>          .ipynb_checkpoints\n",
      "09/12/2022  11:27            46,811 chesterfield_25-08-2021_09-00-00.csv\n",
      "09/12/2022  14:10            12,299 ExtractionDone.ipynb\n",
      "               2 File(s)         59,110 bytes\n",
      "               3 Dir(s)  90,560,794,624 bytes free\n"
     ]
    }
   ],
   "source": [
    "#Checks working directory\n",
    "!dir\n"
   ]
  },
  {
   "cell_type": "code",
   "execution_count": 4,
   "id": "5e81858e",
   "metadata": {},
   "outputs": [
    {
     "data": {
      "text/plain": [
       "['.ipynb_checkpoints',\n",
       " 'chesterfield_25-08-2021_09-00-00.csv',\n",
       " 'ExtractionDone.ipynb']"
      ]
     },
     "execution_count": 4,
     "metadata": {},
     "output_type": "execute_result"
    }
   ],
   "source": [
    "os.listdir(os.getcwd())"
   ]
  },
  {
   "cell_type": "code",
   "execution_count": 5,
   "id": "e8f7211d",
   "metadata": {},
   "outputs": [],
   "source": [
    "def get_csv_file():\n",
    "    csv_files = []\n",
    "    for file in os.listdir(os.getcwd()):\n",
    "        if file.endswith(\".csv\"):\n",
    "            csv_files.append(file)\n",
    "        else:\n",
    "            pass\n",
    "    return csv_files"
   ]
  },
  {
   "cell_type": "code",
   "execution_count": 6,
   "id": "22141fbe",
   "metadata": {},
   "outputs": [
    {
     "data": {
      "text/plain": [
       "['chesterfield_25-08-2021_09-00-00.csv']"
      ]
     },
     "execution_count": 6,
     "metadata": {},
     "output_type": "execute_result"
    }
   ],
   "source": [
    "get_csv_file()"
   ]
  },
  {
   "cell_type": "code",
   "execution_count": 7,
   "id": "2c6d39a1",
   "metadata": {},
   "outputs": [],
   "source": [
    "def make_directory(csv_files,dataset_dir):\n",
    "    dataset_dir = 'datasets'\n",
    "    try:\n",
    "        mkdir = 'mkdir {0}'.format(dataset_dir)\n",
    "        os.system(mkdir)\n",
    "    except:\n",
    "        print(\"error\")\n",
    "    for csv in csv_files:\n",
    "        mv_file = \"mv '{0}' {1}\".format(csv, dataset_dir)\n",
    "        os.system(mv_file)\n",
    "        print(mv_file)\n",
    "    return\n",
    "    \n"
   ]
  },
  {
   "cell_type": "code",
   "execution_count": 8,
   "id": "113128dd",
   "metadata": {},
   "outputs": [],
   "source": [
    "# Defining the names of the columns\n",
    "col_names = [\n",
    "    \"date_time\",\n",
    "    \"branch\",\n",
    "    \"customer_name\",\n",
    "    \"products\",\n",
    "    \"total_price\",\n",
    "    \"payment_method\",\n",
    "    \"card_number\",\n",
    "]"
   ]
  },
  {
   "cell_type": "code",
   "execution_count": 9,
   "id": "36018ff3",
   "metadata": {},
   "outputs": [],
   "source": [
    "#Asif's File path\n",
    "file_path = \"chesterfield_25-08-2021_09-00-00.csv\"\n",
    "\n",
    "# Undo this to test directory file_path = \"reports_from_branches/chesterfield_25-08-2021_09-00-00.csv\""
   ]
  },
  {
   "cell_type": "code",
   "execution_count": 10,
   "id": "5c53021e",
   "metadata": {},
   "outputs": [],
   "source": [
    "\n",
    "def into_df(file_path:str,col_names:list = col_names) -> pd.DataFrame:\n",
    "    \"\"\"Converts the csv file to a pandas dataframe\"\"\"\n",
    "    try:\n",
    "        df = pd.read_csv(Path(file_path),names= col_names)\n",
    "        return df\n",
    "    except FileNotFoundError:\n",
    "        print(\"No such file exists\")"
   ]
  },
  {
   "cell_type": "code",
   "execution_count": 11,
   "id": "b23b108c",
   "metadata": {},
   "outputs": [],
   "source": [
    "drop_col = [\"customer_name\", \"card_number\"]\n",
    "\n",
    "#Deletes the columns that have costumers personal details\n",
    "def delete_col(df,colums_to_drop):\n",
    "    try:\n",
    "        df.drop(colums_to_drop,axis= 1,inplace= True)\n",
    "        df[\"date_time\"] = pd.to_datetime(df[\"date_time\"])\n",
    "        return df\n",
    "    except:\n",
    "        print('error')"
   ]
  },
  {
   "cell_type": "code",
   "execution_count": 12,
   "id": "1a03a576",
   "metadata": {},
   "outputs": [],
   "source": [
    "#Main\n",
    "drop_col = [\"customer_name\", \"card_number\"]\n",
    "into_df(file_path,col_names)\n",
    "new_df = delete_col(into_df(file_path,col_names),drop_col)\n",
    "\n",
    "#Reset index to start from 1\n",
    "new_df.index =  np.arange(1, len(new_df) + 1)"
   ]
  },
  {
   "cell_type": "code",
   "execution_count": 13,
   "id": "d5c082fc",
   "metadata": {},
   "outputs": [
    {
     "data": {
      "text/html": [
       "<div>\n",
       "<style scoped>\n",
       "    .dataframe tbody tr th:only-of-type {\n",
       "        vertical-align: middle;\n",
       "    }\n",
       "\n",
       "    .dataframe tbody tr th {\n",
       "        vertical-align: top;\n",
       "    }\n",
       "\n",
       "    .dataframe thead th {\n",
       "        text-align: right;\n",
       "    }\n",
       "</style>\n",
       "<table border=\"1\" class=\"dataframe\">\n",
       "  <thead>\n",
       "    <tr style=\"text-align: right;\">\n",
       "      <th></th>\n",
       "      <th>date_time</th>\n",
       "      <th>branch</th>\n",
       "      <th>products</th>\n",
       "      <th>total_price</th>\n",
       "      <th>payment_method</th>\n",
       "    </tr>\n",
       "  </thead>\n",
       "  <tbody>\n",
       "    <tr>\n",
       "      <th>1</th>\n",
       "      <td>2021-08-25 09:00:00</td>\n",
       "      <td>Chesterfield</td>\n",
       "      <td>Regular Flavoured iced latte - Hazelnut - 2.75...</td>\n",
       "      <td>5.20</td>\n",
       "      <td>CARD</td>\n",
       "    </tr>\n",
       "    <tr>\n",
       "      <th>2</th>\n",
       "      <td>2021-08-25 09:02:00</td>\n",
       "      <td>Chesterfield</td>\n",
       "      <td>Large Flavoured iced latte - Caramel - 3.25, R...</td>\n",
       "      <td>17.30</td>\n",
       "      <td>CARD</td>\n",
       "    </tr>\n",
       "    <tr>\n",
       "      <th>3</th>\n",
       "      <td>2021-08-25 09:04:00</td>\n",
       "      <td>Chesterfield</td>\n",
       "      <td>Large Flat white - 2.45, Regular Latte - 2.15</td>\n",
       "      <td>4.60</td>\n",
       "      <td>CARD</td>\n",
       "    </tr>\n",
       "    <tr>\n",
       "      <th>4</th>\n",
       "      <td>2021-08-25 09:06:00</td>\n",
       "      <td>Chesterfield</td>\n",
       "      <td>Regular Flavoured latte - Hazelnut - 2.55, Lar...</td>\n",
       "      <td>5.00</td>\n",
       "      <td>CARD</td>\n",
       "    </tr>\n",
       "    <tr>\n",
       "      <th>5</th>\n",
       "      <td>2021-08-25 09:08:00</td>\n",
       "      <td>Chesterfield</td>\n",
       "      <td>Regular Latte - 2.15, Large Latte - 2.45</td>\n",
       "      <td>4.60</td>\n",
       "      <td>CASH</td>\n",
       "    </tr>\n",
       "    <tr>\n",
       "      <th>...</th>\n",
       "      <td>...</td>\n",
       "      <td>...</td>\n",
       "      <td>...</td>\n",
       "      <td>...</td>\n",
       "      <td>...</td>\n",
       "    </tr>\n",
       "    <tr>\n",
       "      <th>264</th>\n",
       "      <td>2021-08-25 16:45:00</td>\n",
       "      <td>Chesterfield</td>\n",
       "      <td>Large Flavoured iced latte - Vanilla - 3.25, L...</td>\n",
       "      <td>14.35</td>\n",
       "      <td>CARD</td>\n",
       "    </tr>\n",
       "    <tr>\n",
       "      <th>265</th>\n",
       "      <td>2021-08-25 16:49:00</td>\n",
       "      <td>Chesterfield</td>\n",
       "      <td>Large Flavoured latte - Hazelnut - 2.85, Large...</td>\n",
       "      <td>6.10</td>\n",
       "      <td>CASH</td>\n",
       "    </tr>\n",
       "    <tr>\n",
       "      <th>266</th>\n",
       "      <td>2021-08-25 16:52:00</td>\n",
       "      <td>Chesterfield</td>\n",
       "      <td>Large Flavoured iced latte - Hazelnut - 3.25, ...</td>\n",
       "      <td>10.70</td>\n",
       "      <td>CASH</td>\n",
       "    </tr>\n",
       "    <tr>\n",
       "      <th>267</th>\n",
       "      <td>2021-08-25 16:56:00</td>\n",
       "      <td>Chesterfield</td>\n",
       "      <td>Regular Flavoured latte - Hazelnut - 2.55</td>\n",
       "      <td>2.55</td>\n",
       "      <td>CASH</td>\n",
       "    </tr>\n",
       "    <tr>\n",
       "      <th>268</th>\n",
       "      <td>2021-08-25 16:59:00</td>\n",
       "      <td>Chesterfield</td>\n",
       "      <td>Large Flat white - 2.45</td>\n",
       "      <td>2.45</td>\n",
       "      <td>CASH</td>\n",
       "    </tr>\n",
       "  </tbody>\n",
       "</table>\n",
       "<p>268 rows × 5 columns</p>\n",
       "</div>"
      ],
      "text/plain": [
       "              date_time        branch  \\\n",
       "1   2021-08-25 09:00:00  Chesterfield   \n",
       "2   2021-08-25 09:02:00  Chesterfield   \n",
       "3   2021-08-25 09:04:00  Chesterfield   \n",
       "4   2021-08-25 09:06:00  Chesterfield   \n",
       "5   2021-08-25 09:08:00  Chesterfield   \n",
       "..                  ...           ...   \n",
       "264 2021-08-25 16:45:00  Chesterfield   \n",
       "265 2021-08-25 16:49:00  Chesterfield   \n",
       "266 2021-08-25 16:52:00  Chesterfield   \n",
       "267 2021-08-25 16:56:00  Chesterfield   \n",
       "268 2021-08-25 16:59:00  Chesterfield   \n",
       "\n",
       "                                              products  total_price  \\\n",
       "1    Regular Flavoured iced latte - Hazelnut - 2.75...         5.20   \n",
       "2    Large Flavoured iced latte - Caramel - 3.25, R...        17.30   \n",
       "3        Large Flat white - 2.45, Regular Latte - 2.15         4.60   \n",
       "4    Regular Flavoured latte - Hazelnut - 2.55, Lar...         5.00   \n",
       "5             Regular Latte - 2.15, Large Latte - 2.45         4.60   \n",
       "..                                                 ...          ...   \n",
       "264  Large Flavoured iced latte - Vanilla - 3.25, L...        14.35   \n",
       "265  Large Flavoured latte - Hazelnut - 2.85, Large...         6.10   \n",
       "266  Large Flavoured iced latte - Hazelnut - 3.25, ...        10.70   \n",
       "267          Regular Flavoured latte - Hazelnut - 2.55         2.55   \n",
       "268                            Large Flat white - 2.45         2.45   \n",
       "\n",
       "    payment_method  \n",
       "1             CARD  \n",
       "2             CARD  \n",
       "3             CARD  \n",
       "4             CARD  \n",
       "5             CASH  \n",
       "..             ...  \n",
       "264           CARD  \n",
       "265           CASH  \n",
       "266           CASH  \n",
       "267           CASH  \n",
       "268           CASH  \n",
       "\n",
       "[268 rows x 5 columns]"
      ]
     },
     "execution_count": 13,
     "metadata": {},
     "output_type": "execute_result"
    }
   ],
   "source": [
    "new_df"
   ]
  },
  {
   "cell_type": "code",
   "execution_count": null,
   "id": "7fdaf240",
   "metadata": {},
   "outputs": [],
   "source": []
  }
 ],
 "metadata": {
  "kernelspec": {
   "display_name": "base",
   "language": "python",
   "name": "python3"
  },
  "language_info": {
   "codemirror_mode": {
    "name": "ipython",
    "version": 3
   },
   "file_extension": ".py",
   "mimetype": "text/x-python",
   "name": "python",
   "nbconvert_exporter": "python",
   "pygments_lexer": "ipython3",
   "version": "3.9.13"
  },
  "vscode": {
   "interpreter": {
    "hash": "ad2bdc8ecc057115af97d19610ffacc2b4e99fae6737bb82f5d7fb13d2f2c186"
   }
  }
 },
 "nbformat": 4,
 "nbformat_minor": 5
}
