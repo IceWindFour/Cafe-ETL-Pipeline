{
 "cells": [
  {
   "cell_type": "markdown",
   "metadata": {},
   "source": []
  },
  {
   "cell_type": "markdown",
   "metadata": {},
   "source": [
    "#import the csv into pandas df\n",
    "#clean the table name and ensure item format\n",
    "#clean the column headers \n",
    "#write the create table SQL statement (DONE already)\n",
    "#import the data into the db"
   ]
  },
  {
   "cell_type": "code",
   "execution_count": 70,
   "metadata": {},
   "outputs": [],
   "source": [
    "import os\n",
    "import numpy as np\n",
    "import pandas as pd\n",
    "import psycopg2\n",
    "import re"
   ]
  },
  {
   "cell_type": "code",
   "execution_count": 71,
   "metadata": {},
   "outputs": [
    {
     "data": {
      "text/html": [
       "<div>\n",
       "<style scoped>\n",
       "    .dataframe tbody tr th:only-of-type {\n",
       "        vertical-align: middle;\n",
       "    }\n",
       "\n",
       "    .dataframe tbody tr th {\n",
       "        vertical-align: top;\n",
       "    }\n",
       "\n",
       "    .dataframe thead th {\n",
       "        text-align: right;\n",
       "    }\n",
       "</style>\n",
       "<table border=\"1\" class=\"dataframe\">\n",
       "  <thead>\n",
       "    <tr style=\"text-align: right;\">\n",
       "      <th></th>\n",
       "      <th>date_time</th>\n",
       "      <th>branch</th>\n",
       "      <th>customer</th>\n",
       "      <th>order_content</th>\n",
       "      <th>total_price</th>\n",
       "      <th>payment_type</th>\n",
       "      <th>credit_card_number</th>\n",
       "    </tr>\n",
       "  </thead>\n",
       "  <tbody>\n",
       "    <tr>\n",
       "      <th>0</th>\n",
       "      <td>25/08/2021 09:00</td>\n",
       "      <td>Chesterfield</td>\n",
       "      <td>Richard Copeland</td>\n",
       "      <td>Regular Flavoured iced latte - Hazelnut - 2.75...</td>\n",
       "      <td>5.2</td>\n",
       "      <td>CARD</td>\n",
       "      <td>5.494174e+15</td>\n",
       "    </tr>\n",
       "    <tr>\n",
       "      <th>1</th>\n",
       "      <td>25/08/2021 09:02</td>\n",
       "      <td>Chesterfield</td>\n",
       "      <td>Scott Owens</td>\n",
       "      <td>Large Flavoured iced latte - Caramel - 3.25, R...</td>\n",
       "      <td>17.3</td>\n",
       "      <td>CARD</td>\n",
       "      <td>6.844802e+15</td>\n",
       "    </tr>\n",
       "    <tr>\n",
       "      <th>2</th>\n",
       "      <td>25/08/2021 09:04</td>\n",
       "      <td>Chesterfield</td>\n",
       "      <td>Francis Strayhorn</td>\n",
       "      <td>Large Flat white - 2.45, Regular Latte - 2.15</td>\n",
       "      <td>4.6</td>\n",
       "      <td>CARD</td>\n",
       "      <td>9.557104e+15</td>\n",
       "    </tr>\n",
       "    <tr>\n",
       "      <th>3</th>\n",
       "      <td>25/08/2021 09:06</td>\n",
       "      <td>Chesterfield</td>\n",
       "      <td>Rodney Drake</td>\n",
       "      <td>Regular Flavoured latte - Hazelnut - 2.55, Lar...</td>\n",
       "      <td>5.0</td>\n",
       "      <td>CARD</td>\n",
       "      <td>2.978328e+15</td>\n",
       "    </tr>\n",
       "    <tr>\n",
       "      <th>4</th>\n",
       "      <td>25/08/2021 09:08</td>\n",
       "      <td>Chesterfield</td>\n",
       "      <td>Michael Sparrow</td>\n",
       "      <td>Regular Latte - 2.15, Large Latte - 2.45</td>\n",
       "      <td>4.6</td>\n",
       "      <td>CASH</td>\n",
       "      <td>NaN</td>\n",
       "    </tr>\n",
       "  </tbody>\n",
       "</table>\n",
       "</div>"
      ],
      "text/plain": [
       "          date_time        branch           customer  \\\n",
       "0  25/08/2021 09:00  Chesterfield   Richard Copeland   \n",
       "1  25/08/2021 09:02  Chesterfield        Scott Owens   \n",
       "2  25/08/2021 09:04  Chesterfield  Francis Strayhorn   \n",
       "3  25/08/2021 09:06  Chesterfield       Rodney Drake   \n",
       "4  25/08/2021 09:08  Chesterfield    Michael Sparrow   \n",
       "\n",
       "                                       order_content  total_price  \\\n",
       "0  Regular Flavoured iced latte - Hazelnut - 2.75...          5.2   \n",
       "1  Large Flavoured iced latte - Caramel - 3.25, R...         17.3   \n",
       "2      Large Flat white - 2.45, Regular Latte - 2.15          4.6   \n",
       "3  Regular Flavoured latte - Hazelnut - 2.55, Lar...          5.0   \n",
       "4           Regular Latte - 2.15, Large Latte - 2.45          4.6   \n",
       "\n",
       "  payment_type  credit_card_number  \n",
       "0         CARD        5.494174e+15  \n",
       "1         CARD        6.844802e+15  \n",
       "2         CARD        9.557104e+15  \n",
       "3         CARD        2.978328e+15  \n",
       "4         CASH                 NaN  "
      ]
     },
     "execution_count": 71,
     "metadata": {},
     "output_type": "execute_result"
    }
   ],
   "source": [
    "file_path = \"../reports_from_branches/chesterfield_25-08-2021_09-00-00.csv\"\n",
    "column_names = [\"date_time\", \"branch\", \"customer\", \"order_content\", \"total_price\", \"payment_type\", \"credit_card_number\"]\n",
    "df = pd.read_csv(file_path, names=column_names)\n",
    "df.head()"
   ]
  },
  {
   "cell_type": "code",
   "execution_count": 72,
   "metadata": {},
   "outputs": [
    {
     "data": {
      "text/html": [
       "<div>\n",
       "<style scoped>\n",
       "    .dataframe tbody tr th:only-of-type {\n",
       "        vertical-align: middle;\n",
       "    }\n",
       "\n",
       "    .dataframe tbody tr th {\n",
       "        vertical-align: top;\n",
       "    }\n",
       "\n",
       "    .dataframe thead th {\n",
       "        text-align: right;\n",
       "    }\n",
       "</style>\n",
       "<table border=\"1\" class=\"dataframe\">\n",
       "  <thead>\n",
       "    <tr style=\"text-align: right;\">\n",
       "      <th></th>\n",
       "      <th>date_time</th>\n",
       "      <th>branch</th>\n",
       "      <th>customer</th>\n",
       "      <th>order_content</th>\n",
       "      <th>total_price</th>\n",
       "      <th>payment_type</th>\n",
       "      <th>credit_card_number</th>\n",
       "    </tr>\n",
       "  </thead>\n",
       "  <tbody>\n",
       "    <tr>\n",
       "      <th>0</th>\n",
       "      <td>25/08/2021 09:00</td>\n",
       "      <td>Chesterfield</td>\n",
       "      <td>Richard Copeland</td>\n",
       "      <td>[Regular Flavoured iced latte - Hazelnut - 2.7...</td>\n",
       "      <td>5.2</td>\n",
       "      <td>CARD</td>\n",
       "      <td>5.494174e+15</td>\n",
       "    </tr>\n",
       "    <tr>\n",
       "      <th>1</th>\n",
       "      <td>25/08/2021 09:02</td>\n",
       "      <td>Chesterfield</td>\n",
       "      <td>Scott Owens</td>\n",
       "      <td>[Large Flavoured iced latte - Caramel - 3.25, ...</td>\n",
       "      <td>17.3</td>\n",
       "      <td>CARD</td>\n",
       "      <td>6.844802e+15</td>\n",
       "    </tr>\n",
       "    <tr>\n",
       "      <th>2</th>\n",
       "      <td>25/08/2021 09:04</td>\n",
       "      <td>Chesterfield</td>\n",
       "      <td>Francis Strayhorn</td>\n",
       "      <td>[Large Flat white - 2.45,  Regular Latte - 2.15]</td>\n",
       "      <td>4.6</td>\n",
       "      <td>CARD</td>\n",
       "      <td>9.557104e+15</td>\n",
       "    </tr>\n",
       "    <tr>\n",
       "      <th>3</th>\n",
       "      <td>25/08/2021 09:06</td>\n",
       "      <td>Chesterfield</td>\n",
       "      <td>Rodney Drake</td>\n",
       "      <td>[Regular Flavoured latte - Hazelnut - 2.55,  L...</td>\n",
       "      <td>5.0</td>\n",
       "      <td>CARD</td>\n",
       "      <td>2.978328e+15</td>\n",
       "    </tr>\n",
       "    <tr>\n",
       "      <th>4</th>\n",
       "      <td>25/08/2021 09:08</td>\n",
       "      <td>Chesterfield</td>\n",
       "      <td>Michael Sparrow</td>\n",
       "      <td>[Regular Latte - 2.15,  Large Latte - 2.45]</td>\n",
       "      <td>4.6</td>\n",
       "      <td>CASH</td>\n",
       "      <td>NaN</td>\n",
       "    </tr>\n",
       "  </tbody>\n",
       "</table>\n",
       "</div>"
      ],
      "text/plain": [
       "          date_time        branch           customer  \\\n",
       "0  25/08/2021 09:00  Chesterfield   Richard Copeland   \n",
       "1  25/08/2021 09:02  Chesterfield        Scott Owens   \n",
       "2  25/08/2021 09:04  Chesterfield  Francis Strayhorn   \n",
       "3  25/08/2021 09:06  Chesterfield       Rodney Drake   \n",
       "4  25/08/2021 09:08  Chesterfield    Michael Sparrow   \n",
       "\n",
       "                                       order_content  total_price  \\\n",
       "0  [Regular Flavoured iced latte - Hazelnut - 2.7...          5.2   \n",
       "1  [Large Flavoured iced latte - Caramel - 3.25, ...         17.3   \n",
       "2   [Large Flat white - 2.45,  Regular Latte - 2.15]          4.6   \n",
       "3  [Regular Flavoured latte - Hazelnut - 2.55,  L...          5.0   \n",
       "4        [Regular Latte - 2.15,  Large Latte - 2.45]          4.6   \n",
       "\n",
       "  payment_type  credit_card_number  \n",
       "0         CARD        5.494174e+15  \n",
       "1         CARD        6.844802e+15  \n",
       "2         CARD        9.557104e+15  \n",
       "3         CARD        2.978328e+15  \n",
       "4         CASH                 NaN  "
      ]
     },
     "execution_count": 72,
     "metadata": {},
     "output_type": "execute_result"
    }
   ],
   "source": [
    "#spliting the first time, turn order_content into a list\n",
    "df[\"order_content\"]= df[\"order_content\"].str.split(',')\n",
    "df.head()"
   ]
  },
  {
   "cell_type": "code",
   "execution_count": 73,
   "metadata": {},
   "outputs": [
    {
     "name": "stdout",
     "output_type": "stream",
     "text": [
      "0      [Regular Flavoured iced latte - Hazelnut - 2.7...\n",
      "1      [Large Flavoured iced latte - Caramel - 3.25, ...\n",
      "2       [Large Flat white - 2.45,  Regular Latte - 2.15]\n",
      "3      [Regular Flavoured latte - Hazelnut - 2.55,  L...\n",
      "4            [Regular Latte - 2.15,  Large Latte - 2.45]\n",
      "                             ...                        \n",
      "263    [Large Flavoured iced latte - Vanilla - 3.25, ...\n",
      "264    [Large Flavoured latte - Hazelnut - 2.85,  Lar...\n",
      "265    [Large Flavoured iced latte - Hazelnut - 3.25,...\n",
      "266          [Regular Flavoured latte - Hazelnut - 2.55]\n",
      "267                            [Large Flat white - 2.45]\n",
      "Name: order_content, Length: 268, dtype: object\n"
     ]
    }
   ],
   "source": [
    "print(df[\"order_content\"])\n"
   ]
  },
  {
   "cell_type": "code",
   "execution_count": 74,
   "metadata": {},
   "outputs": [
    {
     "data": {
      "text/html": [
       "<div>\n",
       "<style scoped>\n",
       "    .dataframe tbody tr th:only-of-type {\n",
       "        vertical-align: middle;\n",
       "    }\n",
       "\n",
       "    .dataframe tbody tr th {\n",
       "        vertical-align: top;\n",
       "    }\n",
       "\n",
       "    .dataframe thead th {\n",
       "        text-align: right;\n",
       "    }\n",
       "</style>\n",
       "<table border=\"1\" class=\"dataframe\">\n",
       "  <thead>\n",
       "    <tr style=\"text-align: right;\">\n",
       "      <th></th>\n",
       "      <th>date_time</th>\n",
       "      <th>branch</th>\n",
       "      <th>customer</th>\n",
       "      <th>order_content</th>\n",
       "      <th>total_price</th>\n",
       "      <th>payment_type</th>\n",
       "      <th>credit_card_number</th>\n",
       "    </tr>\n",
       "  </thead>\n",
       "  <tbody>\n",
       "    <tr>\n",
       "      <th>0</th>\n",
       "      <td>25/08/2021 09:00</td>\n",
       "      <td>Chesterfield</td>\n",
       "      <td>Richard Copeland</td>\n",
       "      <td>Regular Flavoured iced latte - Hazelnut - 2.75</td>\n",
       "      <td>5.20</td>\n",
       "      <td>CARD</td>\n",
       "      <td>5.494174e+15</td>\n",
       "    </tr>\n",
       "    <tr>\n",
       "      <th>0</th>\n",
       "      <td>25/08/2021 09:00</td>\n",
       "      <td>Chesterfield</td>\n",
       "      <td>Richard Copeland</td>\n",
       "      <td>Large Latte - 2.45</td>\n",
       "      <td>5.20</td>\n",
       "      <td>CARD</td>\n",
       "      <td>5.494174e+15</td>\n",
       "    </tr>\n",
       "    <tr>\n",
       "      <th>1</th>\n",
       "      <td>25/08/2021 09:02</td>\n",
       "      <td>Chesterfield</td>\n",
       "      <td>Scott Owens</td>\n",
       "      <td>Large Flavoured iced latte - Caramel - 3.25</td>\n",
       "      <td>17.30</td>\n",
       "      <td>CARD</td>\n",
       "      <td>6.844802e+15</td>\n",
       "    </tr>\n",
       "    <tr>\n",
       "      <th>1</th>\n",
       "      <td>25/08/2021 09:02</td>\n",
       "      <td>Chesterfield</td>\n",
       "      <td>Scott Owens</td>\n",
       "      <td>Regular Flavoured iced latte - Hazelnut - 2.75</td>\n",
       "      <td>17.30</td>\n",
       "      <td>CARD</td>\n",
       "      <td>6.844802e+15</td>\n",
       "    </tr>\n",
       "    <tr>\n",
       "      <th>1</th>\n",
       "      <td>25/08/2021 09:02</td>\n",
       "      <td>Chesterfield</td>\n",
       "      <td>Scott Owens</td>\n",
       "      <td>Regular Flavoured iced latte - Caramel - 2.75</td>\n",
       "      <td>17.30</td>\n",
       "      <td>CARD</td>\n",
       "      <td>6.844802e+15</td>\n",
       "    </tr>\n",
       "    <tr>\n",
       "      <th>...</th>\n",
       "      <td>...</td>\n",
       "      <td>...</td>\n",
       "      <td>...</td>\n",
       "      <td>...</td>\n",
       "      <td>...</td>\n",
       "      <td>...</td>\n",
       "      <td>...</td>\n",
       "    </tr>\n",
       "    <tr>\n",
       "      <th>265</th>\n",
       "      <td>25/08/2021 16:52</td>\n",
       "      <td>Chesterfield</td>\n",
       "      <td>Sharon Campanelli</td>\n",
       "      <td>Regular Flavoured iced latte - Caramel - 2.75</td>\n",
       "      <td>10.70</td>\n",
       "      <td>CASH</td>\n",
       "      <td>NaN</td>\n",
       "    </tr>\n",
       "    <tr>\n",
       "      <th>265</th>\n",
       "      <td>25/08/2021 16:52</td>\n",
       "      <td>Chesterfield</td>\n",
       "      <td>Sharon Campanelli</td>\n",
       "      <td>Regular Flavoured latte - Hazelnut - 2.55</td>\n",
       "      <td>10.70</td>\n",
       "      <td>CASH</td>\n",
       "      <td>NaN</td>\n",
       "    </tr>\n",
       "    <tr>\n",
       "      <th>265</th>\n",
       "      <td>25/08/2021 16:52</td>\n",
       "      <td>Chesterfield</td>\n",
       "      <td>Sharon Campanelli</td>\n",
       "      <td>Regular Flat white - 2.15</td>\n",
       "      <td>10.70</td>\n",
       "      <td>CASH</td>\n",
       "      <td>NaN</td>\n",
       "    </tr>\n",
       "    <tr>\n",
       "      <th>266</th>\n",
       "      <td>25/08/2021 16:56</td>\n",
       "      <td>Chesterfield</td>\n",
       "      <td>Henry Frew</td>\n",
       "      <td>Regular Flavoured latte - Hazelnut - 2.55</td>\n",
       "      <td>2.55</td>\n",
       "      <td>CASH</td>\n",
       "      <td>NaN</td>\n",
       "    </tr>\n",
       "    <tr>\n",
       "      <th>267</th>\n",
       "      <td>25/08/2021 16:59</td>\n",
       "      <td>Chesterfield</td>\n",
       "      <td>David Ornelas</td>\n",
       "      <td>Large Flat white - 2.45</td>\n",
       "      <td>2.45</td>\n",
       "      <td>CASH</td>\n",
       "      <td>NaN</td>\n",
       "    </tr>\n",
       "  </tbody>\n",
       "</table>\n",
       "<p>779 rows × 7 columns</p>\n",
       "</div>"
      ],
      "text/plain": [
       "            date_time        branch           customer  \\\n",
       "0    25/08/2021 09:00  Chesterfield   Richard Copeland   \n",
       "0    25/08/2021 09:00  Chesterfield   Richard Copeland   \n",
       "1    25/08/2021 09:02  Chesterfield        Scott Owens   \n",
       "1    25/08/2021 09:02  Chesterfield        Scott Owens   \n",
       "1    25/08/2021 09:02  Chesterfield        Scott Owens   \n",
       "..                ...           ...                ...   \n",
       "265  25/08/2021 16:52  Chesterfield  Sharon Campanelli   \n",
       "265  25/08/2021 16:52  Chesterfield  Sharon Campanelli   \n",
       "265  25/08/2021 16:52  Chesterfield  Sharon Campanelli   \n",
       "266  25/08/2021 16:56  Chesterfield         Henry Frew   \n",
       "267  25/08/2021 16:59  Chesterfield      David Ornelas   \n",
       "\n",
       "                                       order_content  total_price  \\\n",
       "0     Regular Flavoured iced latte - Hazelnut - 2.75         5.20   \n",
       "0                                 Large Latte - 2.45         5.20   \n",
       "1        Large Flavoured iced latte - Caramel - 3.25        17.30   \n",
       "1     Regular Flavoured iced latte - Hazelnut - 2.75        17.30   \n",
       "1      Regular Flavoured iced latte - Caramel - 2.75        17.30   \n",
       "..                                               ...          ...   \n",
       "265    Regular Flavoured iced latte - Caramel - 2.75        10.70   \n",
       "265        Regular Flavoured latte - Hazelnut - 2.55        10.70   \n",
       "265                        Regular Flat white - 2.15        10.70   \n",
       "266        Regular Flavoured latte - Hazelnut - 2.55         2.55   \n",
       "267                          Large Flat white - 2.45         2.45   \n",
       "\n",
       "    payment_type  credit_card_number  \n",
       "0           CARD        5.494174e+15  \n",
       "0           CARD        5.494174e+15  \n",
       "1           CARD        6.844802e+15  \n",
       "1           CARD        6.844802e+15  \n",
       "1           CARD        6.844802e+15  \n",
       "..           ...                 ...  \n",
       "265         CASH                 NaN  \n",
       "265         CASH                 NaN  \n",
       "265         CASH                 NaN  \n",
       "266         CASH                 NaN  \n",
       "267         CASH                 NaN  \n",
       "\n",
       "[779 rows x 7 columns]"
      ]
     },
     "execution_count": 74,
     "metadata": {},
     "output_type": "execute_result"
    }
   ],
   "source": [
    "#spliting the order_content into individual row\n",
    "df.explode(\"order_content\")"
   ]
  },
  {
   "cell_type": "code",
   "execution_count": 75,
   "metadata": {},
   "outputs": [
    {
     "data": {
      "text/html": [
       "<div>\n",
       "<style scoped>\n",
       "    .dataframe tbody tr th:only-of-type {\n",
       "        vertical-align: middle;\n",
       "    }\n",
       "\n",
       "    .dataframe tbody tr th {\n",
       "        vertical-align: top;\n",
       "    }\n",
       "\n",
       "    .dataframe thead th {\n",
       "        text-align: right;\n",
       "    }\n",
       "</style>\n",
       "<table border=\"1\" class=\"dataframe\">\n",
       "  <thead>\n",
       "    <tr style=\"text-align: right;\">\n",
       "      <th></th>\n",
       "      <th>date_time</th>\n",
       "      <th>branch</th>\n",
       "      <th>customer</th>\n",
       "      <th>order_content</th>\n",
       "      <th>total_price</th>\n",
       "      <th>payment_type</th>\n",
       "      <th>credit_card_number</th>\n",
       "    </tr>\n",
       "  </thead>\n",
       "  <tbody>\n",
       "    <tr>\n",
       "      <th>0</th>\n",
       "      <td>25/08/2021 09:00</td>\n",
       "      <td>Chesterfield</td>\n",
       "      <td>Richard Copeland</td>\n",
       "      <td>[Regular Flavoured iced latte - Hazelnut - 2.7...</td>\n",
       "      <td>5.2</td>\n",
       "      <td>CARD</td>\n",
       "      <td>5.494174e+15</td>\n",
       "    </tr>\n",
       "    <tr>\n",
       "      <th>1</th>\n",
       "      <td>25/08/2021 09:02</td>\n",
       "      <td>Chesterfield</td>\n",
       "      <td>Scott Owens</td>\n",
       "      <td>[Large Flavoured iced latte - Caramel - 3.25, ...</td>\n",
       "      <td>17.3</td>\n",
       "      <td>CARD</td>\n",
       "      <td>6.844802e+15</td>\n",
       "    </tr>\n",
       "    <tr>\n",
       "      <th>2</th>\n",
       "      <td>25/08/2021 09:04</td>\n",
       "      <td>Chesterfield</td>\n",
       "      <td>Francis Strayhorn</td>\n",
       "      <td>[Large Flat white - 2.45,  Regular Latte - 2.15]</td>\n",
       "      <td>4.6</td>\n",
       "      <td>CARD</td>\n",
       "      <td>9.557104e+15</td>\n",
       "    </tr>\n",
       "    <tr>\n",
       "      <th>3</th>\n",
       "      <td>25/08/2021 09:06</td>\n",
       "      <td>Chesterfield</td>\n",
       "      <td>Rodney Drake</td>\n",
       "      <td>[Regular Flavoured latte - Hazelnut - 2.55,  L...</td>\n",
       "      <td>5.0</td>\n",
       "      <td>CARD</td>\n",
       "      <td>2.978328e+15</td>\n",
       "    </tr>\n",
       "    <tr>\n",
       "      <th>4</th>\n",
       "      <td>25/08/2021 09:08</td>\n",
       "      <td>Chesterfield</td>\n",
       "      <td>Michael Sparrow</td>\n",
       "      <td>[Regular Latte - 2.15,  Large Latte - 2.45]</td>\n",
       "      <td>4.6</td>\n",
       "      <td>CASH</td>\n",
       "      <td>NaN</td>\n",
       "    </tr>\n",
       "  </tbody>\n",
       "</table>\n",
       "</div>"
      ],
      "text/plain": [
       "          date_time        branch           customer  \\\n",
       "0  25/08/2021 09:00  Chesterfield   Richard Copeland   \n",
       "1  25/08/2021 09:02  Chesterfield        Scott Owens   \n",
       "2  25/08/2021 09:04  Chesterfield  Francis Strayhorn   \n",
       "3  25/08/2021 09:06  Chesterfield       Rodney Drake   \n",
       "4  25/08/2021 09:08  Chesterfield    Michael Sparrow   \n",
       "\n",
       "                                       order_content  total_price  \\\n",
       "0  [Regular Flavoured iced latte - Hazelnut - 2.7...          5.2   \n",
       "1  [Large Flavoured iced latte - Caramel - 3.25, ...         17.3   \n",
       "2   [Large Flat white - 2.45,  Regular Latte - 2.15]          4.6   \n",
       "3  [Regular Flavoured latte - Hazelnut - 2.55,  L...          5.0   \n",
       "4        [Regular Latte - 2.15,  Large Latte - 2.45]          4.6   \n",
       "\n",
       "  payment_type  credit_card_number  \n",
       "0         CARD        5.494174e+15  \n",
       "1         CARD        6.844802e+15  \n",
       "2         CARD        9.557104e+15  \n",
       "3         CARD        2.978328e+15  \n",
       "4         CASH                 NaN  "
      ]
     },
     "execution_count": 75,
     "metadata": {},
     "output_type": "execute_result"
    }
   ],
   "source": [
    "df.head()"
   ]
  },
  {
   "cell_type": "code",
   "execution_count": 76,
   "metadata": {},
   "outputs": [
    {
     "data": {
      "text/plain": [
       "date_time              object\n",
       "branch                 object\n",
       "customer               object\n",
       "order_content          object\n",
       "total_price           float64\n",
       "payment_type           object\n",
       "credit_card_number    float64\n",
       "dtype: object"
      ]
     },
     "execution_count": 76,
     "metadata": {},
     "output_type": "execute_result"
    }
   ],
   "source": [
    "df.dtypes"
   ]
  },
  {
   "cell_type": "code",
   "execution_count": 77,
   "metadata": {},
   "outputs": [],
   "source": [
    "replacements = {\n",
    "    'object' : 'varchar',\n",
    "    'float64' : 'float'\n",
    "}\n",
    "\n"
   ]
  },
  {
   "cell_type": "code",
   "execution_count": 78,
   "metadata": {},
   "outputs": [
    {
     "data": {
      "text/plain": [
       "'date_time varchar, branch varchar, customer varchar, order_content varchar, total_price float, payment_type varchar, credit_card_number float'"
      ]
     },
     "execution_count": 78,
     "metadata": {},
     "output_type": "execute_result"
    }
   ],
   "source": [
    "#switching and joining datatype from pandas to sql\n",
    "col_str = \", \".join(\"{} {}\". format(n, d) for (n, d)in zip(df.columns, df.dtypes.replace(replacements)))\n",
    "col_str"
   ]
  },
  {
   "cell_type": "code",
   "execution_count": 79,
   "metadata": {},
   "outputs": [
    {
     "data": {
      "text/plain": [
       "'create table raw_data(date_time varchar, branch varchar, customer varchar, order_content varchar, total_price float, payment_type varchar, credit_card_number float);'"
      ]
     },
     "execution_count": 79,
     "metadata": {},
     "output_type": "execute_result"
    }
   ],
   "source": [
    "#wrting sql command\n",
    "creat_table_sql = \"create table raw_data\" + f\"({col_str});\"\n",
    "creat_table_sql"
   ]
  },
  {
   "cell_type": "code",
   "execution_count": 80,
   "metadata": {},
   "outputs": [
    {
     "name": "stdout",
     "output_type": "stream",
     "text": [
      "opened database successfully\n"
     ]
    }
   ],
   "source": [
    "#establish connection\n",
    "conn = psycopg2.connect(\n",
    "    database=\"postgres\",\n",
    "    user = \"postgres\",\n",
    "    password = \"pass\",\n",
    "    host = \"127.0.0.1\",\n",
    "    port = \"5432\"\n",
    ")\n",
    "cursor = conn.cursor()\n",
    "print('opened database successfully')"
   ]
  },
  {
   "cell_type": "code",
   "execution_count": 81,
   "metadata": {},
   "outputs": [],
   "source": [
    "#drop table\n",
    "cursor.execute(\"drop table if exists raw_data;\")"
   ]
  },
  {
   "cell_type": "code",
   "execution_count": 82,
   "metadata": {},
   "outputs": [],
   "source": [
    "#create table\n",
    "cursor.execute(creat_table_sql)"
   ]
  },
  {
   "cell_type": "code",
   "execution_count": 83,
   "metadata": {},
   "outputs": [
    {
     "name": "stdout",
     "output_type": "stream",
     "text": [
      "file opened in memory\n"
     ]
    }
   ],
   "source": [
    "#insert values to table\n",
    "\n",
    "#save df to csv\n",
    "df.to_csv(file_path, header=df.columns, index=False, encoding='utf-8')\n",
    "#open the csv file, save it as an object, and upload to db\n",
    "my_file = open(file_path)\n",
    "print(\"file opened in memory\")"
   ]
  },
  {
   "cell_type": "code",
   "execution_count": 84,
   "metadata": {},
   "outputs": [
    {
     "name": "stdout",
     "output_type": "stream",
     "text": [
      "file copied to db\n"
     ]
    }
   ],
   "source": [
    "#upload to db\n",
    "sql_statement = \"\"\"\n",
    "COPY raw_data FROM STDIN WITH\n",
    "CSV\n",
    "HEADER\n",
    "DELIMITER AS ','\n",
    "\"\"\"\n",
    "\n",
    "cursor.copy_expert(sql=sql_statement, file=my_file)\n",
    "print('file copied to db')\n"
   ]
  },
  {
   "cell_type": "code",
   "execution_count": null,
   "metadata": {},
   "outputs": [],
   "source": []
  }
 ],
 "metadata": {
  "kernelspec": {
   "display_name": "Python 3.9.0 64-bit ('3.9.0')",
   "language": "python",
   "name": "python3"
  },
  "language_info": {
   "codemirror_mode": {
    "name": "ipython",
    "version": 3
   },
   "file_extension": ".py",
   "mimetype": "text/x-python",
   "name": "python",
   "nbconvert_exporter": "python",
   "pygments_lexer": "ipython3",
   "version": "3.9.0"
  },
  "orig_nbformat": 4,
  "vscode": {
   "interpreter": {
    "hash": "5d3dcf7fa00a1e74d70a0ad5798bf8485ee279d4e339d9041767c959bbee1947"
   }
  }
 },
 "nbformat": 4,
 "nbformat_minor": 2
}
