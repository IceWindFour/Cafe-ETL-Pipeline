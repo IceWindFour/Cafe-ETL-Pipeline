{
 "cells": [
  {
   "cell_type": "code",
   "execution_count": 23,
   "metadata": {},
   "outputs": [],
   "source": [
    "import pandas as pd\n",
    "import os\n"
   ]
  },
  {
   "cell_type": "code",
   "execution_count": 24,
   "metadata": {},
   "outputs": [
    {
     "name": "stdout",
     "output_type": "stream",
     "text": [
      " Volume in drive C is Windows-SSD\n",
      " Volume Serial Number is 5EAC-9465\n",
      "\n",
      " Directory of c:\\Users\\Asif Shajahan\\Desktop\\extractiontesting\n",
      "\n",
      "08/12/2022  15:56    <DIR>          .\n",
      "08/12/2022  12:02    <DIR>          ..\n",
      "05/12/2022  14:58            46,811 chesterfield_25-08-2021_09-00-00.csv\n",
      "08/12/2022  15:41    <DIR>          datasets\n",
      "08/12/2022  15:48             4,416 extractcode.ipynb\n",
      "               2 File(s)         51,227 bytes\n",
      "               3 Dir(s)  90,474,090,496 bytes free\n"
     ]
    }
   ],
   "source": [
    "!dir"
   ]
  },
  {
   "cell_type": "code",
   "execution_count": 25,
   "metadata": {},
   "outputs": [
    {
     "data": {
      "text/plain": [
       "['chesterfield_25-08-2021_09-00-00.csv', 'datasets', 'extractcode.ipynb']"
      ]
     },
     "execution_count": 25,
     "metadata": {},
     "output_type": "execute_result"
    }
   ],
   "source": [
    "os.listdir(os.getcwd())\n"
   ]
  },
  {
   "cell_type": "markdown",
   "metadata": {},
   "source": []
  },
  {
   "cell_type": "code",
   "execution_count": 26,
   "metadata": {},
   "outputs": [],
   "source": [
    "def get_csv_file():\n",
    "    csv_files = []\n",
    "    for file in os.listdir(os.getcwd()):\n",
    "        if file.endswith(\".csv\"):\n",
    "            csv_files.append(file)\n",
    "        else:\n",
    "            pass\n",
    "    csv_files\n",
    "    return csv_files"
   ]
  },
  {
   "cell_type": "code",
   "execution_count": 27,
   "metadata": {},
   "outputs": [],
   "source": [
    "def make_directory(csv_files,dataset_dir):\n",
    "    dataset_dir = 'datasets'\n",
    "    try:\n",
    "        mkdir = 'mkdir {0}'.format(dataset_dir)\n",
    "        os.system(mkdir)\n",
    "    except:\n",
    "        print(\"error\")\n",
    "    for csv in csv_files:\n",
    "        mv_file = \"mv '{0}' {1}\".format(csv, dataset_dir)\n",
    "        os.system(mv_file)\n",
    "        print(mv_file)\n",
    "    return\n"
   ]
  },
  {
   "cell_type": "code",
   "execution_count": 28,
   "metadata": {},
   "outputs": [],
   "source": [
    "def new_df(dataset_dir,csv_files):\n",
    "    data_dir = os.getcwd()+'/'+dataset_dir+'/'\n",
    "    df= {}\n",
    "    for file in csv_files:\n",
    "        try:\n",
    "            df[file] = pd.read_csv(data_dir+file)\n",
    "        except UnicodeDecodeError:\n",
    "            df[file] = pd.read_csv(data_dir+file,encoding=\"ISO-8859-1\")\n",
    "        print(file)\n",
    "    return df"
   ]
  },
  {
   "cell_type": "code",
   "execution_count": 29,
   "metadata": {},
   "outputs": [
    {
     "name": "stdout",
     "output_type": "stream",
     "text": [
      "mv 'chesterfield_25-08-2021_09-00-00.csv' datasets\n",
      "chesterfield_25-08-2021_09-00-00.csv\n"
     ]
    }
   ],
   "source": [
    "#Main\n",
    "\n",
    "dataset_dir = 'datasets'\n",
    "csv_files = get_csv_file()\n",
    "make_directory(csv_files,dataset_dir)\n",
    "df = new_df(dataset_dir,csv_files)\n"
   ]
  },
  {
   "cell_type": "code",
   "execution_count": 30,
   "metadata": {},
   "outputs": [
    {
     "data": {
      "text/plain": [
       "{'chesterfield_25-08-2021_09-00-00.csv':      25/08/2021 09:00  Chesterfield   Richard Copeland  \\\n",
       " 0    25/08/2021 09:02  Chesterfield        Scott Owens   \n",
       " 1    25/08/2021 09:04  Chesterfield  Francis Strayhorn   \n",
       " 2    25/08/2021 09:06  Chesterfield       Rodney Drake   \n",
       " 3    25/08/2021 09:08  Chesterfield    Michael Sparrow   \n",
       " 4    25/08/2021 09:10  Chesterfield    Thomas Register   \n",
       " ..                ...           ...                ...   \n",
       " 262  25/08/2021 16:45  Chesterfield        Juan Bender   \n",
       " 263  25/08/2021 16:49  Chesterfield        Jose Hajduk   \n",
       " 264  25/08/2021 16:52  Chesterfield  Sharon Campanelli   \n",
       " 265  25/08/2021 16:56  Chesterfield         Henry Frew   \n",
       " 266  25/08/2021 16:59  Chesterfield      David Ornelas   \n",
       " \n",
       "     Regular Flavoured iced latte - Hazelnut - 2.75, Large Latte - 2.45    5.2  \\\n",
       " 0    Large Flavoured iced latte - Caramel - 3.25, R...                  17.30   \n",
       " 1        Large Flat white - 2.45, Regular Latte - 2.15                   4.60   \n",
       " 2    Regular Flavoured latte - Hazelnut - 2.55, Lar...                   5.00   \n",
       " 3             Regular Latte - 2.15, Large Latte - 2.45                   4.60   \n",
       " 4    Large Flavoured iced latte - Caramel - 3.25, R...                  12.95   \n",
       " ..                                                 ...                    ...   \n",
       " 262  Large Flavoured iced latte - Vanilla - 3.25, L...                  14.35   \n",
       " 263  Large Flavoured latte - Hazelnut - 2.85, Large...                   6.10   \n",
       " 264  Large Flavoured iced latte - Hazelnut - 3.25, ...                  10.70   \n",
       " 265          Regular Flavoured latte - Hazelnut - 2.55                   2.55   \n",
       " 266                            Large Flat white - 2.45                   2.45   \n",
       " \n",
       "      CARD  5494173772652516  \n",
       " 0    CARD      6.844802e+15  \n",
       " 1    CARD      9.557104e+15  \n",
       " 2    CARD      2.978328e+15  \n",
       " 3    CASH               NaN  \n",
       " 4    CASH               NaN  \n",
       " ..    ...               ...  \n",
       " 262  CARD      5.986749e+15  \n",
       " 263  CASH               NaN  \n",
       " 264  CASH               NaN  \n",
       " 265  CASH               NaN  \n",
       " 266  CASH               NaN  \n",
       " \n",
       " [267 rows x 7 columns]}"
      ]
     },
     "execution_count": 30,
     "metadata": {},
     "output_type": "execute_result"
    }
   ],
   "source": [
    "df"
   ]
  },
  {
   "cell_type": "code",
   "execution_count": null,
   "metadata": {},
   "outputs": [],
   "source": []
  }
 ],
 "metadata": {
  "kernelspec": {
   "display_name": "base",
   "language": "python",
   "name": "python3"
  },
  "language_info": {
   "codemirror_mode": {
    "name": "ipython",
    "version": 3
   },
   "file_extension": ".py",
   "mimetype": "text/x-python",
   "name": "python",
   "nbconvert_exporter": "python",
   "pygments_lexer": "ipython3",
   "version": "3.9.13"
  },
  "orig_nbformat": 4,
  "vscode": {
   "interpreter": {
    "hash": "ad2bdc8ecc057115af97d19610ffacc2b4e99fae6737bb82f5d7fb13d2f2c186"
   }
  }
 },
 "nbformat": 4,
 "nbformat_minor": 2
}
